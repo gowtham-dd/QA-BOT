{
 "cells": [
  {
   "cell_type": "markdown",
   "metadata": {},
   "source": [
    "## Model Training"
   ]
  },
  {
   "cell_type": "code",
   "execution_count": 1,
   "metadata": {},
   "outputs": [
    {
     "data": {
      "text/plain": [
       "'d:\\\\Data Science\\\\END to END Proj\\\\QA-BOT'"
      ]
     },
     "execution_count": 1,
     "metadata": {},
     "output_type": "execute_result"
    }
   ],
   "source": [
    "import os\n",
    "%pwd\n",
    "os.chdir(\"../\")\n",
    "%pwd\n"
   ]
  },
  {
   "cell_type": "code",
   "execution_count": 8,
   "metadata": {},
   "outputs": [],
   "source": [
    "from dataclasses import dataclass\n",
    "from pathlib import Path\n",
    "import os\n",
    "import torch\n",
    "from torch.utils.data import DataLoader, Dataset  # Added Dataset import\n",
    "from torch.optim import AdamW\n",
    "from tqdm import tqdm\n",
    "from src.QABOT import logger\n",
    "import shutil\n",
    "from transformers import DistilBertForQuestionAnswering, DistilBertTokenizerFast  # Added tokenizer import\n"
   ]
  },
  {
   "cell_type": "code",
   "execution_count": 9,
   "metadata": {},
   "outputs": [],
   "source": [
    "\n",
    "@dataclass(frozen=True)\n",
    "class ModelTrainerConfig:\n",
    "    root_dir: Path\n",
    "    model_save_dir: Path\n",
    "    trained_model_path: Path\n",
    "    tokenizer_save_dir: Path\n",
    "    num_train_epochs: int\n",
    "    batch_size: int\n",
    "    learning_rate: float"
   ]
  },
  {
   "cell_type": "code",
   "execution_count": 10,
   "metadata": {},
   "outputs": [],
   "source": [
    "from src.QABOT.constant import *\n",
    "from src.QABOT.utils.common import read_yaml,create_directories \n",
    "import json\n",
    "from src.QABOT import logger\n"
   ]
  },
  {
   "cell_type": "code",
   "execution_count": 19,
   "metadata": {},
   "outputs": [],
   "source": [
    "from src.QABOT.constant import *\n",
    "from src.QABOT.utils.common import read_yaml,create_directories \n",
    "from src.QABOT.entity.config_entity import DataIngestionConfig,DataValidationConfig,DataTransformationConfig\n",
    "class ConfigurationManager:\n",
    "    def __init__(\n",
    "        self,\n",
    "        config_filepath = CONFIG_FILE_PATH,\n",
    "        params_filepath = PARAMS_FILE_PATH,\n",
    "     ):\n",
    "\n",
    "        self.config = read_yaml(config_filepath)\n",
    "        self.params = read_yaml(params_filepath)\n",
    "        \n",
    "\n",
    "        create_directories([self.config.artifacts_root])\n",
    "\n",
    "\n",
    "    \n",
    "    def get_data_ingestion_config(self) -> DataIngestionConfig:\n",
    "        config = self.config.data_ingestion\n",
    "\n",
    "        create_directories([config.root_dir])\n",
    "\n",
    "        data_ingestion_config = DataIngestionConfig(\n",
    "            root_dir=config.root_dir,\n",
    "            source_URL=config.source_URL,\n",
    "            local_data_file=config.local_data_file,\n",
    "            unzip_dir=config.unzip_dir \n",
    "        )\n",
    "\n",
    "        return data_ingestion_config\n",
    "    \n",
    "\n",
    "    \n",
    "    def get_data_validation_config(self) -> DataValidationConfig:\n",
    "        config = self.config.data_validation\n",
    "        create_directories([config.root_dir])\n",
    "\n",
    "        data_validation_config = DataValidationConfig(\n",
    "            root_dir=Path(config.root_dir),\n",
    "            STATUS_FILE=Path(config.STATUS_FILE),\n",
    "            TRAIN_FILE=Path(config.TRAIN_FILE),\n",
    "            DEV_FILE=Path(config.DEV_FILE),\n",
    "            REQUIRED_KEYS=config.REQUIRED_KEYS,\n",
    "            MIN_EXAMPLES=config.MIN_EXAMPLES\n",
    "        )\n",
    "        return data_validation_config\n",
    "    \n",
    "\n",
    "\n",
    "\n",
    "\n",
    "    def get_data_transformation_config(self) -> DataTransformationConfig:\n",
    "        config = self.config.data_transformation\n",
    "        create_directories([config.root_dir])\n",
    "\n",
    "        data_transformation_config = DataTransformationConfig(\n",
    "            root_dir=Path(config.root_dir),\n",
    "            TRAIN_FILE=Path(config.TRAIN_FILE),\n",
    "            DEV_FILE=Path(config.DEV_FILE),\n",
    "            MAX_LEN=self.params.Transformation.MAX_LEN,\n",
    "            DOC_STRIDE=self.params.Transformation.DOC_STRIDE,\n",
    "            PARA_VECTORIZER_FILE=Path(config.PARA_VECTORIZER_FILE),\n",
    "            SENT_VECTORIZER_FILE=Path(config.SENT_VECTORIZER_FILE),\n",
    "            PARAGRAPHS_FILE=Path(config.PARAGRAPHS_FILE),\n",
    "            SENTENCES_FILE=Path(config.SENTENCES_FILE)\n",
    "        )\n",
    "        return data_transformation_config\n",
    "\n",
    "    def get_model_trainer_config(self) -> ModelTrainerConfig:\n",
    "        config = self.config.model_trainer\n",
    "        params = self.params.Training\n",
    "\n",
    "        create_directories([config.root_dir])\n",
    "\n",
    "        model_trainer_config = ModelTrainerConfig(\n",
    "            root_dir=Path(config.root_dir),\n",
    "            model_save_dir=Path(config.model_save_dir),\n",
    "            trained_model_path=Path(config.trained_model_path),\n",
    "            tokenizer_save_dir=Path(config.tokenizer_save_dir),\n",
    "            num_train_epochs=params.num_train_epochs,\n",
    "            batch_size=params.batch_size,\n",
    "            learning_rate=params.learning_rate\n",
    "        )\n",
    "        return model_trainer_config\n"
   ]
  },
  {
   "cell_type": "code",
   "execution_count": 20,
   "metadata": {},
   "outputs": [],
   "source": [
    "\n",
    "\n",
    "\n",
    "class ModelTrainer:\n",
    "    def __init__(\n",
    "        self,\n",
    "        config: ModelTrainerConfig,\n",
    "        train_dataset: Dataset,\n",
    "        eval_dataset: Dataset = None\n",
    "    ):\n",
    "        self.config = config\n",
    "        self.train_dataset = train_dataset\n",
    "        self.eval_dataset = eval_dataset\n",
    "        self.device = torch.device(\"cuda\" if torch.cuda.is_available() else \"cpu\")\n",
    "\n",
    "    \n",
    "\n",
    "    def _check_model_exists(self) -> bool:\n",
    "        \"\"\"Check if trained model already exists\"\"\"\n",
    "        return (\n",
    "            os.path.exists(self.config.trained_model_path) and \n",
    "            os.path.exists(self.config.tokenizer_save_dir)\n",
    "        )\n",
    "\n",
    "    def train(self):\n",
    "        try:\n",
    "            # Skip training if model exists\n",
    "            if self._check_model_exists():\n",
    "                logger.info(\"Model already trained and saved. Skipping training.\")\n",
    "                return\n",
    "\n",
    "            logger.info(\"Starting model training...\")\n",
    "            \n",
    "            # Create fresh output directory\n",
    "            if os.path.exists(self.config.model_save_dir):\n",
    "                shutil.rmtree(self.config.model_save_dir)\n",
    "            os.makedirs(self.config.model_save_dir, exist_ok=True)\n",
    "\n",
    "            # Initialize model\n",
    "            model = DistilBertForQuestionAnswering.from_pretrained(\n",
    "                \"distilbert-base-uncased\"\n",
    "            ).to(self.device)\n",
    "            \n",
    "            # Setup training\n",
    "            train_loader = DataLoader(\n",
    "                self.train_dataset,\n",
    "                batch_size=self.config.batch_size,\n",
    "                shuffle=True\n",
    "            )\n",
    "            \n",
    "            optimizer = AdamW(\n",
    "                model.parameters(),\n",
    "                lr=self.config.learning_rate\n",
    "            )\n",
    "\n",
    "            # Training loop\n",
    "            model.train()\n",
    "            for epoch in range(self.config.num_train_epochs):\n",
    "                loop = tqdm(train_loader, desc=f\"Epoch {epoch+1}/{self.config.num_train_epochs}\")\n",
    "                for batch in loop:\n",
    "                    optimizer.zero_grad()\n",
    "                    batch = {k: v.to(self.device) for k, v in batch.items()}\n",
    "                    outputs = model(**batch)\n",
    "                    loss = outputs.loss\n",
    "                    loss.backward()\n",
    "                    optimizer.step()\n",
    "                    loop.set_postfix(loss=loss.item())\n",
    "\n",
    "            # Save model\n",
    "            model.save_pretrained(self.config.model_save_dir)\n",
    "            tokenizer.save_pretrained(self.config.tokenizer_save_dir)\n",
    "            logger.info(f\" Model trained and saved to {self.config.model_save_dir}\")\n",
    "\n",
    "        except Exception as e:\n",
    "            logger.error(f\"Model training failed: {str(e)}\")\n",
    "            raise e\n"
   ]
  },
  {
   "cell_type": "code",
   "execution_count": 21,
   "metadata": {},
   "outputs": [
    {
     "name": "stdout",
     "output_type": "stream",
     "text": [
      "[2025-08-13 16:58:05,024: INFO: common: yaml file: config\\config.yaml loaded successfully]\n",
      "[2025-08-13 16:58:05,028: INFO: common: yaml file: params.yaml loaded successfully]\n",
      "[2025-08-13 16:58:05,031: INFO: common: created directory at: artifacts]\n",
      "[2025-08-13 16:58:05,036: INFO: common: created directory at: artifacts/model_trainer]\n",
      "[2025-08-13 16:58:05,041: INFO: common: created directory at: artifacts/data_transformation]\n"
     ]
    },
    {
     "name": "stderr",
     "output_type": "stream",
     "text": [
      "d:\\Data Science\\END to END Proj\\QA-BOT\\venv\\Lib\\site-packages\\transformers\\tokenization_utils_base.py:1908: FutureWarning: The `use_auth_token` argument is deprecated and will be removed in v5 of Transformers. Please use `token` instead.\n",
      "  warnings.warn(\n"
     ]
    },
    {
     "name": "stdout",
     "output_type": "stream",
     "text": [
      "[2025-08-13 16:58:08,476: INFO: data_transformation: Flattened 87599 train and 10570 dev examples]\n",
      "[2025-08-13 16:58:17,387: INFO: data_transformation: Built TF-IDF retriever with 20958 paragraphs and 104034 sentences]\n"
     ]
    },
    {
     "name": "stderr",
     "output_type": "stream",
     "text": [
      "Tokenizing examples: 100%|██████████| 87599/87599 [02:00<00:00, 726.83it/s] \n",
      "Tokenizing examples: 100%|██████████| 10570/10570 [00:16<00:00, 657.46it/s]"
     ]
    },
    {
     "name": "stdout",
     "output_type": "stream",
     "text": [
      "[2025-08-13 17:00:34,015: INFO: data_transformation: Prepared 87790 train and 10616 dev features]\n"
     ]
    },
    {
     "name": "stderr",
     "output_type": "stream",
     "text": [
      "\n"
     ]
    },
    {
     "name": "stdout",
     "output_type": "stream",
     "text": [
      "[2025-08-13 17:00:35,654: INFO: 4066968275: Model already trained and saved. Skipping training.]\n"
     ]
    }
   ],
   "source": [
    "from src.QABOT.components.data_transformation import DataTransformation\n",
    "\n",
    "if __name__ == \"__main__\":\n",
    "    try:\n",
    "        # Initialize configuration\n",
    "        config_manager = ConfigurationManager()\n",
    "        trainer_config = config_manager.get_model_trainer_config()\n",
    "        \n",
    "        # Load datasets (from previous transformation step)\n",
    "        transformer = DataTransformation(config_manager.get_data_transformation_config())\n",
    "        train_dataset, _ = transformer.transform()\n",
    "        \n",
    "        # Train model\n",
    "        trainer = ModelTrainer(\n",
    "            config=trainer_config,\n",
    "            train_dataset=train_dataset\n",
    "        )\n",
    "        trainer.train()\n",
    "\n",
    "    except Exception as e:\n",
    "        logger.error(f\"Training pipeline failed: {str(e)}\")\n",
    "        raise e"
   ]
  }
 ],
 "metadata": {
  "kernelspec": {
   "display_name": "venv",
   "language": "python",
   "name": "python3"
  },
  "language_info": {
   "codemirror_mode": {
    "name": "ipython",
    "version": 3
   },
   "file_extension": ".py",
   "mimetype": "text/x-python",
   "name": "python",
   "nbconvert_exporter": "python",
   "pygments_lexer": "ipython3",
   "version": "3.11.1"
  }
 },
 "nbformat": 4,
 "nbformat_minor": 2
}
